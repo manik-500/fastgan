{
 "cells": [
  {
   "cell_type": "code",
   "execution_count": null,
   "metadata": {},
   "outputs": [],
   "source": [
    "# default_exp core"
   ]
  },
  {
   "cell_type": "code",
   "execution_count": null,
   "metadata": {},
   "outputs": [
    {
     "name": "stdout",
     "output_type": "stream",
     "text": [
      "Requirement already satisfied: nbd-colab in /usr/local/lib/python3.6/dist-packages (0.0.10)\n",
      "Requirement already satisfied: fastcore in /usr/local/lib/python3.6/dist-packages (from nbd-colab) (1.3.19)\n",
      "Requirement already satisfied: nbdev in /usr/local/lib/python3.6/dist-packages (from nbd-colab) (1.1.12)\n",
      "Requirement already satisfied: pip in /usr/local/lib/python3.6/dist-packages (from fastcore->nbd-colab) (19.3.1)\n",
      "Requirement already satisfied: packaging in /usr/local/lib/python3.6/dist-packages (from fastcore->nbd-colab) (20.8)\n",
      "Requirement already satisfied: ipykernel in /usr/local/lib/python3.6/dist-packages (from nbdev->nbd-colab) (4.10.1)\n",
      "Requirement already satisfied: jupyter in /usr/local/lib/python3.6/dist-packages (from nbdev->nbd-colab) (1.0.0)\n",
      "Requirement already satisfied: pyyaml in /usr/local/lib/python3.6/dist-packages (from nbdev->nbd-colab) (3.13)\n",
      "Requirement already satisfied: nbconvert<6 in /usr/local/lib/python3.6/dist-packages (from nbdev->nbd-colab) (5.6.1)\n",
      "Requirement already satisfied: jupyter-client in /usr/local/lib/python3.6/dist-packages (from nbdev->nbd-colab) (5.3.5)\n",
      "Requirement already satisfied: nbformat>=4.4.0 in /usr/local/lib/python3.6/dist-packages (from nbdev->nbd-colab) (5.1.2)\n",
      "Requirement already satisfied: pyparsing>=2.0.2 in /usr/local/lib/python3.6/dist-packages (from packaging->fastcore->nbd-colab) (2.4.7)\n",
      "Requirement already satisfied: ipython>=4.0.0 in /usr/local/lib/python3.6/dist-packages (from ipykernel->nbdev->nbd-colab) (5.5.0)\n",
      "Requirement already satisfied: tornado>=4.0 in /usr/local/lib/python3.6/dist-packages (from ipykernel->nbdev->nbd-colab) (5.1.1)\n",
      "Requirement already satisfied: traitlets>=4.1.0 in /usr/local/lib/python3.6/dist-packages (from ipykernel->nbdev->nbd-colab) (4.3.3)\n",
      "Requirement already satisfied: qtconsole in /usr/local/lib/python3.6/dist-packages (from jupyter->nbdev->nbd-colab) (5.0.2)\n",
      "Requirement already satisfied: ipywidgets in /usr/local/lib/python3.6/dist-packages (from jupyter->nbdev->nbd-colab) (7.6.3)\n",
      "Requirement already satisfied: notebook in /usr/local/lib/python3.6/dist-packages (from jupyter->nbdev->nbd-colab) (5.3.1)\n",
      "Requirement already satisfied: jupyter-console in /usr/local/lib/python3.6/dist-packages (from jupyter->nbdev->nbd-colab) (5.2.0)\n",
      "Requirement already satisfied: entrypoints>=0.2.2 in /usr/local/lib/python3.6/dist-packages (from nbconvert<6->nbdev->nbd-colab) (0.3)\n",
      "Requirement already satisfied: testpath in /usr/local/lib/python3.6/dist-packages (from nbconvert<6->nbdev->nbd-colab) (0.4.4)\n",
      "Requirement already satisfied: pygments in /usr/local/lib/python3.6/dist-packages (from nbconvert<6->nbdev->nbd-colab) (2.6.1)\n",
      "Requirement already satisfied: jinja2>=2.4 in /usr/local/lib/python3.6/dist-packages (from nbconvert<6->nbdev->nbd-colab) (2.11.2)\n",
      "Requirement already satisfied: pandocfilters>=1.4.1 in /usr/local/lib/python3.6/dist-packages (from nbconvert<6->nbdev->nbd-colab) (1.4.3)\n",
      "Requirement already satisfied: mistune<2,>=0.8.1 in /usr/local/lib/python3.6/dist-packages (from nbconvert<6->nbdev->nbd-colab) (0.8.4)\n",
      "Requirement already satisfied: defusedxml in /usr/local/lib/python3.6/dist-packages (from nbconvert<6->nbdev->nbd-colab) (0.6.0)\n",
      "Requirement already satisfied: jupyter-core in /usr/local/lib/python3.6/dist-packages (from nbconvert<6->nbdev->nbd-colab) (4.7.0)\n",
      "Requirement already satisfied: bleach in /usr/local/lib/python3.6/dist-packages (from nbconvert<6->nbdev->nbd-colab) (3.2.2)\n",
      "Requirement already satisfied: pyzmq>=13 in /usr/local/lib/python3.6/dist-packages (from jupyter-client->nbdev->nbd-colab) (21.0.1)\n",
      "Requirement already satisfied: python-dateutil>=2.1 in /usr/local/lib/python3.6/dist-packages (from jupyter-client->nbdev->nbd-colab) (2.8.1)\n",
      "Requirement already satisfied: ipython-genutils in /usr/local/lib/python3.6/dist-packages (from nbformat>=4.4.0->nbdev->nbd-colab) (0.2.0)\n",
      "Requirement already satisfied: jsonschema!=2.5.0,>=2.4 in /usr/local/lib/python3.6/dist-packages (from nbformat>=4.4.0->nbdev->nbd-colab) (2.6.0)\n",
      "Requirement already satisfied: pickleshare in /usr/local/lib/python3.6/dist-packages (from ipython>=4.0.0->ipykernel->nbdev->nbd-colab) (0.7.5)\n",
      "Requirement already satisfied: pexpect; sys_platform != \"win32\" in /usr/local/lib/python3.6/dist-packages (from ipython>=4.0.0->ipykernel->nbdev->nbd-colab) (4.8.0)\n",
      "Requirement already satisfied: simplegeneric>0.8 in /usr/local/lib/python3.6/dist-packages (from ipython>=4.0.0->ipykernel->nbdev->nbd-colab) (0.8.1)\n",
      "Requirement already satisfied: prompt-toolkit<2.0.0,>=1.0.4 in /usr/local/lib/python3.6/dist-packages (from ipython>=4.0.0->ipykernel->nbdev->nbd-colab) (1.0.18)\n",
      "Requirement already satisfied: decorator in /usr/local/lib/python3.6/dist-packages (from ipython>=4.0.0->ipykernel->nbdev->nbd-colab) (4.4.2)\n",
      "Requirement already satisfied: setuptools>=18.5 in /usr/local/lib/python3.6/dist-packages (from ipython>=4.0.0->ipykernel->nbdev->nbd-colab) (51.3.3)\n",
      "Requirement already satisfied: six in /usr/local/lib/python3.6/dist-packages (from traitlets>=4.1.0->ipykernel->nbdev->nbd-colab) (1.15.0)\n",
      "Requirement already satisfied: qtpy in /usr/local/lib/python3.6/dist-packages (from qtconsole->jupyter->nbdev->nbd-colab) (1.9.0)\n",
      "Requirement already satisfied: jupyterlab-widgets>=1.0.0; python_version >= \"3.6\" in /usr/local/lib/python3.6/dist-packages (from ipywidgets->jupyter->nbdev->nbd-colab) (1.0.0)\n",
      "Requirement already satisfied: widgetsnbextension~=3.5.0 in /usr/local/lib/python3.6/dist-packages (from ipywidgets->jupyter->nbdev->nbd-colab) (3.5.1)\n",
      "Requirement already satisfied: terminado>=0.8.1 in /usr/local/lib/python3.6/dist-packages (from notebook->jupyter->nbdev->nbd-colab) (0.9.2)\n",
      "Requirement already satisfied: Send2Trash in /usr/local/lib/python3.6/dist-packages (from notebook->jupyter->nbdev->nbd-colab) (1.5.0)\n",
      "Requirement already satisfied: MarkupSafe>=0.23 in /usr/local/lib/python3.6/dist-packages (from jinja2>=2.4->nbconvert<6->nbdev->nbd-colab) (1.1.1)\n",
      "Requirement already satisfied: webencodings in /usr/local/lib/python3.6/dist-packages (from bleach->nbconvert<6->nbdev->nbd-colab) (0.5.1)\n",
      "Requirement already satisfied: ptyprocess>=0.5 in /usr/local/lib/python3.6/dist-packages (from pexpect; sys_platform != \"win32\"->ipython>=4.0.0->ipykernel->nbdev->nbd-colab) (0.7.0)\n",
      "Requirement already satisfied: wcwidth in /usr/local/lib/python3.6/dist-packages (from prompt-toolkit<2.0.0,>=1.0.4->ipython>=4.0.0->ipykernel->nbdev->nbd-colab) (0.2.5)\n"
     ]
    }
   ],
   "source": [
    "#hide\r\n",
    "!pip install nbd-colab"
   ]
  },
  {
   "cell_type": "markdown",
   "metadata": {},
   "source": [
    "# module name here\n",
    "\n",
    "> API details."
   ]
  },
  {
   "cell_type": "code",
   "execution_count": null,
   "metadata": {},
   "outputs": [],
   "source": [
    "#hide\n",
    "from nbdev.showdoc import *"
   ]
  },
  {
   "cell_type": "code",
   "execution_count": null,
   "metadata": {},
   "outputs": [],
   "source": [
    "#export\r\n",
    "import fastcore, fastai, pylab, nbdev"
   ]
  },
  {
   "cell_type": "code",
   "execution_count": null,
   "metadata": {},
   "outputs": [],
   "source": [
    "#export\r\n",
    "def plot(func,**kargs):\r\n",
    "    x=torch.arange(-7,7,.1)\r\n",
    "    pylab.clf()\r\n",
    "    pylab.grid(color='k', alpha=0.2, linestyle='dashdot')\r\n",
    "    pylab.plot(x,func(x,**kargs).data.numpy())\r\n",
    "    pylab.xlim([-7,7])\r\n",
    "    pylab.ylim([-7,7])"
   ]
  },
  {
   "cell_type": "code",
   "execution_count": null,
   "metadata": {},
   "outputs": [
    {
     "name": "stdout",
     "output_type": "stream",
     "text": [
      "Mounted at /content/drive\n"
     ]
    }
   ],
   "source": [
    "#hide\r\n",
    "from nbd_colab import *\r\n",
    "drive_setup()"
   ]
  },
  {
   "cell_type": "code",
   "execution_count": null,
   "metadata": {},
   "outputs": [],
   "source": [
    "#hide\r\n",
    "%cd 'drive/My Drive/fastgan/fastgan'\r\n"
   ]
  },
  {
   "cell_type": "code",
   "execution_count": null,
   "metadata": {},
   "outputs": [
    {
     "name": "stdout",
     "output_type": "stream",
     "text": [
      "Converted 00_core.ipynb.\n",
      "Converted index.ipynb.\n"
     ]
    }
   ],
   "source": [
    "#hide\r\n",
    "from nbdev.export import notebook2script\r\n",
    "notebook2script()"
   ]
  },
  {
   "cell_type": "code",
   "execution_count": null,
   "metadata": {},
   "outputs": [
    {
     "name": "stdout",
     "output_type": "stream",
     "text": [
      "shell-init: error retrieving current directory: getcwd: cannot access parent directories: Transport endpoint is not connected\n",
      "/usr/local/lib/python3.6/dist-packages/fastprogress/fastprogress.py:102: UserWarning: Couldn't import ipywidgets properly, progress bar will use console behavior\n",
      "  warn(\"Couldn't import ipywidgets properly, progress bar will use console behavior\")\n",
      "Traceback (most recent call last):\n",
      "  File \"/usr/local/bin/nbdev_build_docs\", line 8, in <module>\n",
      "    sys.exit(nbdev_build_docs())\n",
      "  File \"/usr/local/lib/python3.6/dist-packages/fastcore/script.py\", line 105, in _f\n",
      "    tfunc(**merge(args, args_from_prog(func, xtra)))\n",
      "  File \"/usr/local/lib/python3.6/dist-packages/nbdev/export2html.py\", line 664, in nbdev_build_docs\n",
      "    notebook2html(fname=fname, force_all=force_all, n_workers=n_workers, pause=pause)\n",
      "  File \"/usr/local/lib/python3.6/dist-packages/nbdev/export2html.py\", line 540, in notebook2html\n",
      "    files = nbglob(recursive=True)\n",
      "  File \"/usr/local/lib/python3.6/dist-packages/nbdev/export.py\", line 410, in nbglob\n",
      "    fname = Config().path(config_key) if fname is None else Path(fname)\n",
      "  File \"/usr/local/lib/python3.6/dist-packages/fastcore/foundation.py\", line 258, in __init__\n",
      "    cfg_path = Path.cwd()\n",
      "  File \"/usr/lib/python3.6/pathlib.py\", line 1055, in cwd\n",
      "    return cls(os.getcwd())\n",
      "OSError: [Errno 107] Transport endpoint is not connected\n"
     ]
    }
   ],
   "source": [
    "#hide\r\n",
    "!nbdev_build_docs"
   ]
  },
  {
   "cell_type": "code",
   "execution_count": null,
   "metadata": {},
   "outputs": [
    {
     "name": "stdout",
     "output_type": "stream",
     "text": [
      "shell-init: error retrieving current directory: getcwd: cannot access parent directories: Transport endpoint is not connected\n",
      "/usr/local/lib/python3.6/dist-packages/fastprogress/fastprogress.py:102: UserWarning: Couldn't import ipywidgets properly, progress bar will use console behavior\n",
      "  warn(\"Couldn't import ipywidgets properly, progress bar will use console behavior\")\n",
      "Traceback (most recent call last):\n",
      "  File \"/usr/local/lib/python3.6/dist-packages/nbdev/cli.py\", line 37, in nbdev_install_git_hooks\n",
      "    try: path = Config().config_file.parent\n",
      "  File \"/usr/local/lib/python3.6/dist-packages/fastcore/foundation.py\", line 258, in __init__\n",
      "    cfg_path = Path.cwd()\n",
      "  File \"/usr/lib/python3.6/pathlib.py\", line 1055, in cwd\n",
      "    return cls(os.getcwd())\n",
      "OSError: [Errno 107] Transport endpoint is not connected\n",
      "\n",
      "During handling of the above exception, another exception occurred:\n",
      "\n",
      "Traceback (most recent call last):\n",
      "  File \"/usr/local/bin/nbdev_install_git_hooks\", line 8, in <module>\n",
      "    sys.exit(nbdev_install_git_hooks())\n",
      "  File \"/usr/local/lib/python3.6/dist-packages/fastcore/script.py\", line 105, in _f\n",
      "    tfunc(**merge(args, args_from_prog(func, xtra)))\n",
      "  File \"/usr/local/lib/python3.6/dist-packages/nbdev/cli.py\", line 38, in nbdev_install_git_hooks\n",
      "    except: path = Path.cwd()\n",
      "  File \"/usr/lib/python3.6/pathlib.py\", line 1055, in cwd\n",
      "    return cls(os.getcwd())\n",
      "OSError: [Errno 107] Transport endpoint is not connected\n"
     ]
    }
   ],
   "source": [
    "#hide\r\n",
    "!nbdev_install_git_hooks"
   ]
  },
  {
   "cell_type": "code",
   "execution_count": null,
   "metadata": {},
   "outputs": [
    {
     "name": "stdout",
     "output_type": "stream",
     "text": [
      "shell-init: error retrieving current directory: getcwd: cannot access parent directories: Transport endpoint is not connected\n",
      "fatal: Unable to read current working directory: Transport endpoint is not connected\n"
     ]
    }
   ],
   "source": [
    "#hide\r\n",
    "!git status"
   ]
  },
  {
   "cell_type": "code",
   "execution_count": null,
   "metadata": {},
   "outputs": [
    {
     "name": "stdout",
     "output_type": "stream",
     "text": [
      "shell-init: error retrieving current directory: getcwd: cannot access parent directories: Transport endpoint is not connected\n",
      "fatal: Unable to read current working directory: Transport endpoint is not connected\n",
      "shell-init: error retrieving current directory: getcwd: cannot access parent directories: Transport endpoint is not connected\n",
      "fatal: Unable to read current working directory: Transport endpoint is not connected\n",
      "shell-init: error retrieving current directory: getcwd: cannot access parent directories: Transport endpoint is not connected\n",
      "fatal: Unable to read current working directory: Transport endpoint is not connected\n"
     ]
    }
   ],
   "source": [
    "#hide\r\n",
    "!git add -A\r\n",
    "!git commit -m 'docs'\r\n",
    "!git push"
   ]
  }
 ],
 "metadata": {
  "kernelspec": {
   "display_name": "Python 3",
   "language": "python",
   "name": "python3"
  }
 },
 "nbformat": 4,
 "nbformat_minor": 0
}
